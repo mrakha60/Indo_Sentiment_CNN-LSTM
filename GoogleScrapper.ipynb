{
  "nbformat": 4,
  "nbformat_minor": 0,
  "metadata": {
    "colab": {
      "provenance": [],
      "collapsed_sections": [
        "Q5T_s-lC69Dw"
      ]
    },
    "kernelspec": {
      "name": "python3",
      "display_name": "Python 3"
    },
    "language_info": {
      "name": "python"
    }
  },
  "cells": [
    {
      "cell_type": "code",
      "source": [
        "!pip install google-play-scraper\n",
        "import pandas as pd\n",
        "from google_play_scraper import reviews_all, Sort\n",
        "\n",
        "# Mengatur parameter scraping\n",
        "app_id = \"gov.dukcapil.mobile_id\"  # ID aplikasi IKD\n",
        "lang = \"id\"  # Bahasa Indonesia\n",
        "country = \"ID\"  # Indonesia\n",
        "sort = Sort.MOST_RELEVANT  # Urutan review (terbaru)\n",
        "min_reviews = 10000  # Target minimum review\n",
        "\n",
        "\n",
        "# Inisialisasi variabel untuk menampung data review\n",
        "all_reviews = []\n",
        "all_reviews = reviews_all(\n",
        "        app_id,\n",
        "        lang=lang,\n",
        "        country=country,\n",
        "        sort=sort,\n",
        "    )\n",
        "\n",
        "# Mengubah data review menjadi DataFrame\n",
        "df_reviews = pd.DataFrame(all_reviews)\n",
        "df_reviews = df_reviews.drop(columns=['reviewId', 'userName', 'userImage', 'thumbsUpCount', 'reviewCreatedVersion', 'at', 'replyContent', 'repliedAt','appVersion'])\n",
        "# Menyimpan DataFrame ke file CSV\n",
        "df_reviews.to_csv(\"ikd_reviews.csv\", index=False)\n",
        "\n",
        "print(f\"Scraping selesai! {len(all_reviews)} review telah disimpan ke 'ikd_reviews.csv'.\")"
      ],
      "metadata": {
        "colab": {
          "base_uri": "https://localhost:8080/"
        },
        "id": "arWx3lT17Ew9",
        "outputId": "8259493a-45fa-41b7-f72e-23f5431a1224"
      },
      "execution_count": null,
      "outputs": [
        {
          "output_type": "stream",
          "name": "stdout",
          "text": [
            "Requirement already satisfied: google-play-scraper in /usr/local/lib/python3.10/dist-packages (1.2.7)\n",
            "Scraping selesai! 22661 review telah disimpan ke 'ikd_reviews.csv'.\n"
          ]
        }
      ]
    },
    {
      "cell_type": "code",
      "source": [
        "# Untuk menghapus kelebihan data\n",
        "\n",
        "\n",
        "df = pd.read_csv(\"/content/ikd_reviews.csv\")\n",
        "# Select the first 10000 rows\n",
        "df = df.iloc[:10000]\n",
        "# Save the DataFrame to a new CSV file\n",
        "df.to_csv(\"IKD_Dataset.csv\", index=False)\n"
      ],
      "metadata": {
        "id": "9AN2i2wD815e"
      },
      "execution_count": null,
      "outputs": []
    }
  ]
}