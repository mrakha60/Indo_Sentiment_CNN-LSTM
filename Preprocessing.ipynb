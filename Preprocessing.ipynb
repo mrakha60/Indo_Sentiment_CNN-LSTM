{
  "nbformat": 4,
  "nbformat_minor": 0,
  "metadata": {
    "colab": {
      "provenance": []
    },
    "kernelspec": {
      "name": "python3",
      "display_name": "Python 3"
    },
    "language_info": {
      "name": "python"
    }
  },
  "cells": [
    {
      "cell_type": "code",
      "source": [
        "!pip install Sastrawi\n",
        "import nltk\n",
        "nltk.download('stopwords')\n",
        "nltk.download('punkt')"
      ],
      "metadata": {
        "colab": {
          "base_uri": "https://localhost:8080/"
        },
        "id": "KPEGbr9hwoec",
        "outputId": "61f28731-6aaf-4173-ceb5-527a78054fc6"
      },
      "execution_count": null,
      "outputs": [
        {
          "output_type": "stream",
          "name": "stdout",
          "text": [
            "Requirement already satisfied: Sastrawi in /usr/local/lib/python3.10/dist-packages (1.0.1)\n"
          ]
        },
        {
          "output_type": "stream",
          "name": "stderr",
          "text": [
            "[nltk_data] Downloading package stopwords to /root/nltk_data...\n",
            "[nltk_data]   Package stopwords is already up-to-date!\n",
            "[nltk_data] Downloading package punkt to /root/nltk_data...\n",
            "[nltk_data]   Unzipping tokenizers/punkt.zip.\n"
          ]
        },
        {
          "output_type": "execute_result",
          "data": {
            "text/plain": [
              "True"
            ]
          },
          "metadata": {},
          "execution_count": 9
        }
      ]
    },
    {
      "cell_type": "code",
      "source": [
        "import pandas as pd\n",
        "import re\n",
        "import string\n",
        "from nltk.tokenize import word_tokenize\n",
        "from nltk.corpus import stopwords\n",
        "from Sastrawi.Stemmer.StemmerFactory import StemmerFactory\n",
        "\n",
        "# Membaca dataset\n",
        "file_path = 'IKD_Dataset.csv'\n",
        "data = pd.read_csv(file_path)\n",
        "\n",
        "# Inisialisasi Stemmer\n",
        "factory = StemmerFactory()\n",
        "stemmer = factory.create_stemmer()\n",
        "\n",
        "# Inisialisasi StopWords Indonesia\n",
        "stop_words = set(stopwords.words('indonesian'))\n",
        "\n",
        "# Membaca dataset normalisasi\n",
        "normalization_df = pd.read_csv('Kamus_Alay.csv')\n",
        "normalization_dict = pd.Series(normalization_df.formal.values, index=normalization_df.slang).to_dict()\n",
        "\n",
        "# Fungsi untuk case folding\n",
        "def case_folding(text):\n",
        "    return text.lower()\n",
        "\n",
        "# Fungsi untuk menghapus emoji\n",
        "def remove_emoji(text):\n",
        "    emoji_pattern = re.compile(\"[\"\n",
        "                           u\"\\U0001F600-\\U0001F64F\"  # emoticons\n",
        "                           u\"\\U0001F300-\\U0001F5FF\"  # symbols & pictographs\n",
        "                           u\"\\U0001F680-\\U0001F6FF\"  # transport & map symbols\n",
        "                           u\"\\U0001F1E0-\\U0001F1FF\"  # flags (iOS)\n",
        "                           u\"\\U00002702-\\U000027B0\"\n",
        "                           u\"\\U000024C2-\\U0001F251\"\n",
        "                           \"]+\", flags=re.UNICODE)\n",
        "    return emoji_pattern.sub(r'', text)\n",
        "\n",
        "# Fungsi untuk data cleaning\n",
        "def clean_text(text):\n",
        "    text = remove_emoji(text)  # Menghapus emoji\n",
        "    text = re.sub(r'\\d+', '', text)  # Menghapus angka\n",
        "    text = text.translate(str.maketrans('', '', string.punctuation))  # Menghapus tanda baca\n",
        "    text = text.strip()  # Menghapus spasi di awal dan akhir teks\n",
        "    text = re.sub(r'\\s+', ' ', text)  # Menghapus spasi ganda\n",
        "    return text\n",
        "\n",
        "# Fungsi untuk tokenisasi\n",
        "def tokenize(text):\n",
        "    return word_tokenize(text)\n",
        "\n",
        "# Fungsi untuk stopword removal\n",
        "def remove_stopwords(tokens):\n",
        "    return [word for word in tokens if word not in stop_words]\n",
        "\n",
        "# Fungsi untuk normalisasi\n",
        "def normalize(tokens):\n",
        "    return [normalization_dict.get(word, word) for word in tokens]\n",
        "\n",
        "# Fungsi untuk stemming\n",
        "def stem(tokens):\n",
        "    return [stemmer.stem(word) for word in tokens]\n",
        "\n",
        "# Preprocessing lengkap\n",
        "def preprocess(text):\n",
        "    text = case_folding(text)\n",
        "    text = clean_text(text)\n",
        "    tokens = tokenize(text)\n",
        "    # tokens = remove_stopwords(tokens)  # Tidak digunakan untuk meningkatkan akurasi model\n",
        "    tokens = normalize(tokens)\n",
        "    tokens = stem(tokens)\n",
        "    return ' '.join(tokens)\n",
        "\n",
        "\n"
      ],
      "metadata": {
        "id": "-ICsMBvTvJcG"
      },
      "execution_count": null,
      "outputs": []
    },
    {
      "cell_type": "code",
      "source": [
        "# Terapkan preprocessing pada kolom 'content'\n",
        "data['processed_content'] = data['content'].apply(preprocess)\n",
        "\n",
        "# Simpan hasil preprocessing ke file baru dengan kolom 'review_text'\n",
        "output_file_path = 'IKD_Dataset_Processed.csv'\n",
        "data[['processed_content']].rename(columns={'processed_content': 'review_text'}).to_csv(output_file_path, index=False)"
      ],
      "metadata": {
        "id": "UZ-_6QDnvMpN"
      },
      "execution_count": null,
      "outputs": []
    }
  ]
}